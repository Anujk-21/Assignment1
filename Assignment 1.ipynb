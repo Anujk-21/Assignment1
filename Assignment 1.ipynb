{
 "cells": [
  {
   "cell_type": "markdown",
   "id": "8c390bc3-d0c5-450b-9acc-f4953f451722",
   "metadata": {},
   "source": [
    "Assignment 1 : Anuj Karoddeo "
   ]
  },
  {
   "cell_type": "markdown",
   "id": "4d8d92dd-9ce1-4e9d-8b2b-a8428ec5ebef",
   "metadata": {},
   "source": [
    "Q1. Create one variable containing following type of data:\n",
    "(i) string\n",
    "(ii) list\n",
    "(iii) float\n",
    "(iv) tuple"
   ]
  },
  {
   "cell_type": "code",
   "execution_count": 1,
   "id": "1bda8ddd-0ba0-4695-8194-e49d75d65365",
   "metadata": {},
   "outputs": [
    {
     "name": "stdout",
     "output_type": "stream",
     "text": [
      "<class 'str'>\n",
      "<class 'list'>\n",
      "<class 'float'>\n",
      "<class 'tuple'>\n"
     ]
    }
   ],
   "source": [
    "#1\n",
    "a = 'Anuj'\n",
    "print(type(a))\n",
    "#2\n",
    "l = [123,'pw',3.14,True,[21,'Anuj',False]]\n",
    "print(type(l))\n",
    "#3\n",
    "f = 3.1458\n",
    "print(type(f))\n",
    "#4\n",
    "t = (784,'Friends',True,2.14)\n",
    "print(type(t))"
   ]
  },
  {
   "cell_type": "markdown",
   "id": "c1b6cf30-dcdb-4ceb-9d8a-02e509cc47c5",
   "metadata": {},
   "source": [
    "Q2. Given are some following variables containing data:\n",
    "(i) var1 = ‘ ‘\n",
    "(ii) var2 = ‘[ DS , ML , Python]’\n",
    "(iii) var3 = [ ‘DS’ , ’ML’ , ‘Python’ ]\n",
    "(iv) var4 = 1.\n",
    "What will be the data type of the above given variable.\n"
   ]
  },
  {
   "cell_type": "code",
   "execution_count": 3,
   "id": "1d265015-421c-493a-a5e3-be9d490a3877",
   "metadata": {},
   "outputs": [
    {
     "name": "stdout",
     "output_type": "stream",
     "text": [
      "<class 'str'>\n",
      "<class 'str'>\n",
      "<class 'list'>\n",
      "<class 'int'>\n"
     ]
    }
   ],
   "source": [
    "#i\n",
    "var1 = ''\n",
    "print(type(var1))\n",
    "#ii\n",
    "var2 = '[ DS , ML , Python]'\n",
    "print(type(var2))\n",
    "#iii\n",
    "var3 =['DS','ML','Python']\n",
    "print(type(var3))\n",
    "#iv\n",
    "var4 = 1\n",
    "print(type(var4))"
   ]
  },
  {
   "cell_type": "markdown",
   "id": "00838bcc-65d3-4d33-acae-1961e84117ea",
   "metadata": {},
   "source": [
    "Q3. Explain the use of the following operators using an example:\n",
    "(i) /\n",
    "(ii) %\n",
    "(iii) //\n",
    "(iv) **"
   ]
  },
  {
   "cell_type": "code",
   "execution_count": 5,
   "id": "f886c749-f6ba-4390-9ed3-6067a09dbd82",
   "metadata": {},
   "outputs": [
    {
     "name": "stdout",
     "output_type": "stream",
     "text": [
      "20 / 5 = 4.0\n",
      "20 % 5 = 0\n",
      "20 // 5 = 4\n",
      "20 ** 5 = 3200000\n"
     ]
    }
   ],
   "source": [
    "#i\n",
    "a = 20\n",
    "b = 5\n",
    "\n",
    "c = a/b\n",
    "print(a,'/',b,'=',c)\n",
    "\n",
    "#ii\n",
    "d = a%b\n",
    "print(a,'%',b,'=',d)\n",
    "\n",
    "#iii\n",
    "e = a//b\n",
    "print(a,'//',b,'=',e)\n",
    "\n",
    "#iv\n",
    "f = a**b\n",
    "print(a,'**',b,'=',f)\n"
   ]
  },
  {
   "cell_type": "markdown",
   "id": "91cd2bb7-c306-459f-b92c-ebe994a8f8d2",
   "metadata": {},
   "source": [
    "Q4. Create a list of length 10 of your choice containing multiple types of data. Using for loop print the\n",
    "element and its data type."
   ]
  },
  {
   "cell_type": "code",
   "execution_count": 11,
   "id": "c2b6993f-1026-4581-bb84-1bb066d61491",
   "metadata": {},
   "outputs": [
    {
     "name": "stdout",
     "output_type": "stream",
     "text": [
      "ELements in list : 10\n",
      "21\n",
      "<class 'int'>\n",
      "\n",
      "AI\n",
      "<class 'str'>\n",
      "\n",
      "India\n",
      "<class 'str'>\n",
      "\n",
      "15.56\n",
      "<class 'float'>\n",
      "\n",
      "True\n",
      "<class 'bool'>\n",
      "\n",
      "7841\n",
      "<class 'int'>\n",
      "\n",
      "1.111\n",
      "<class 'float'>\n",
      "\n",
      "['a', 'b', 'c', 1, 2, 3]\n",
      "<class 'list'>\n",
      "\n",
      "False\n",
      "<class 'bool'>\n",
      "\n",
      "['abc', 'xyz', '123', 321]\n",
      "<class 'list'>\n",
      "\n"
     ]
    }
   ],
   "source": [
    "l1 = [21,'AI','India',15.56,True,7841,1.111,['a','b','c',1,2,3],False,['abc','xyz','123',321]]\n",
    "print('ELements in list :' ,len(l1))\n",
    "for i in l1:\n",
    "    print(i)\n",
    "    print(type(i))\n",
    "    print('')"
   ]
  },
  {
   "cell_type": "markdown",
   "id": "e91e7051-1ad2-4d19-a583-f00df5732806",
   "metadata": {},
   "source": [
    "Q5. Using a while loop, verify if the number A is purely divisible by number B and if so then how many\n",
    "times it can be divisible."
   ]
  },
  {
   "cell_type": "code",
   "execution_count": 12,
   "id": "2b6bd878-778a-4036-818b-bae9e9ed547f",
   "metadata": {},
   "outputs": [
    {
     "name": "stdin",
     "output_type": "stream",
     "text": [
      "Enter a Number :  50\n",
      "Enter a Number :  5\n"
     ]
    },
    {
     "name": "stdout",
     "output_type": "stream",
     "text": [
      "50 is purely divisible by 5 by 10.0 times\n"
     ]
    }
   ],
   "source": [
    "A = int(input(\"Enter a Number : \"))\n",
    "B = int(input(\"Enter a Number : \"))\n",
    "c = A/B\n",
    "while True:\n",
    "    if A%B==0:\n",
    "        print(A ,\"is purely divisible by\",B,'by',c,\"times\")\n",
    "    break"
   ]
  },
  {
   "cell_type": "markdown",
   "id": "2b0a9eb9-ce8b-4d97-82e0-15e8258c042e",
   "metadata": {},
   "source": [
    "Q6. Create a list containing 25 int type data. Using for loop and if-else condition print if the element is\n",
    "divisible by 3 or not."
   ]
  },
  {
   "cell_type": "code",
   "execution_count": 22,
   "id": "12bebee0-b4b9-467c-8a24-e0ac310f081a",
   "metadata": {},
   "outputs": [
    {
     "name": "stdout",
     "output_type": "stream",
     "text": [
      "len of list : 25\n",
      "1 is not divisible by 3\n",
      "\n",
      "2 is not divisible by 3\n",
      "\n",
      "3 is divisible by 3 ✌️\n",
      "\n",
      "4 is not divisible by 3\n",
      "\n",
      "5 is not divisible by 3\n",
      "\n",
      "6 is divisible by 3 ✌️\n",
      "\n",
      "7 is not divisible by 3\n",
      "\n",
      "8 is not divisible by 3\n",
      "\n",
      "9 is divisible by 3 ✌️\n",
      "\n",
      "10 is not divisible by 3\n",
      "\n",
      "26 is not divisible by 3\n",
      "\n",
      "27 is divisible by 3 ✌️\n",
      "\n",
      "29 is not divisible by 3\n",
      "\n",
      "30 is divisible by 3 ✌️\n",
      "\n",
      "35 is not divisible by 3\n",
      "\n",
      "69 is divisible by 3 ✌️\n",
      "\n",
      "18 is divisible by 3 ✌️\n",
      "\n",
      "45 is divisible by 3 ✌️\n",
      "\n",
      "78 is divisible by 3 ✌️\n",
      "\n",
      "95 is not divisible by 3\n",
      "\n",
      "68 is not divisible by 3\n",
      "\n",
      "36 is divisible by 3 ✌️\n",
      "\n",
      "24 is divisible by 3 ✌️\n",
      "\n",
      "52 is not divisible by 3\n",
      "\n",
      "54 is divisible by 3 ✌️\n",
      "\n"
     ]
    }
   ],
   "source": [
    "li1 = [1,2,3,4,5,6,7,8,9,10,26,27,29,30,35,69,18,45,78,95,68,36,24,52,54]\n",
    "print('len of list :',len(li1))\n",
    "\n",
    "for i in li1:\n",
    "    if i%3==0:\n",
    "        print(i,\"is divisible by 3 ✌️\")\n",
    "        print('')\n",
    "    else:\n",
    "        print(i,\"is not divisible by 3\")\n",
    "        print('')"
   ]
  },
  {
   "cell_type": "markdown",
   "id": "367f5960-59a7-4a18-86f7-e57170b23a42",
   "metadata": {},
   "source": [
    "Q7. What do you understand about mutable and immutable data types? Give examples for both showing\n",
    "this property."
   ]
  },
  {
   "cell_type": "code",
   "execution_count": 24,
   "id": "9f67ce48-fa0f-4bb2-a9bd-5743b9c41b78",
   "metadata": {},
   "outputs": [
    {
     "name": "stdout",
     "output_type": "stream",
     "text": [
      "[1, 2, 3, 4, 5]\n",
      "[1, 21, 3, 4, 5]\n",
      "Mutable object allows to make change its state after its cration. E.g,list\n"
     ]
    }
   ],
   "source": [
    "''' Mutable object allows to make change its state after its cration. E.g,list'''\n",
    "list1 = [1,2,3,4,5]\n",
    "print(list1)\n",
    "\n",
    "list1[1] = 21\n",
    "print(list1)\n",
    "print('Mutable object allows to make change its state after its cration. E.g,list')"
   ]
  },
  {
   "cell_type": "code",
   "execution_count": 27,
   "id": "98670e6c-b885-4ade-9bbc-62d373a650d8",
   "metadata": {},
   "outputs": [
    {
     "name": "stdout",
     "output_type": "stream",
     "text": [
      "(10, 11, 12, 13, 14, 15)\n"
     ]
    },
    {
     "ename": "TypeError",
     "evalue": "'tuple' object does not support item assignment",
     "output_type": "error",
     "traceback": [
      "\u001b[0;31m---------------------------------------------------------------------------\u001b[0m",
      "\u001b[0;31mTypeError\u001b[0m                                 Traceback (most recent call last)",
      "Cell \u001b[0;32mIn[27], line 4\u001b[0m\n\u001b[1;32m      2\u001b[0m tuple1 \u001b[38;5;241m=\u001b[39m (\u001b[38;5;241m10\u001b[39m,\u001b[38;5;241m11\u001b[39m,\u001b[38;5;241m12\u001b[39m,\u001b[38;5;241m13\u001b[39m,\u001b[38;5;241m14\u001b[39m,\u001b[38;5;241m15\u001b[39m)\n\u001b[1;32m      3\u001b[0m \u001b[38;5;28mprint\u001b[39m(tuple1)\n\u001b[0;32m----> 4\u001b[0m \u001b[43mtuple1\u001b[49m\u001b[43m[\u001b[49m\u001b[38;5;241;43m2\u001b[39;49m\u001b[43m]\u001b[49m \u001b[38;5;241m=\u001b[39m \u001b[38;5;241m200\u001b[39m\n\u001b[1;32m      5\u001b[0m \u001b[38;5;28mprint\u001b[39m(tuple1)\n\u001b[1;32m      6\u001b[0m \u001b[38;5;28mprint\u001b[39m(\u001b[38;5;124m'\u001b[39m\u001b[38;5;124mImmutable objects do not allows to make any change its state after its creation . E.g, String, Tuple\u001b[39m\u001b[38;5;124m'\u001b[39m)\n",
      "\u001b[0;31mTypeError\u001b[0m: 'tuple' object does not support item assignment"
     ]
    }
   ],
   "source": [
    "''' Immutable objects do not allows to make any change its state after its creation . E.g, String, Tuple'''\n",
    "tuple1 = (10,11,12,13,14,15)\n",
    "print(tuple1)\n",
    "tuple1[2] = 200\n",
    "print(tuple1)\n",
    "print('Immutable objects do not allows to make any change its state after its creation . E.g, String, Tuple')"
   ]
  }
 ],
 "metadata": {
  "kernelspec": {
   "display_name": "Python 3 (ipykernel)",
   "language": "python",
   "name": "python3"
  },
  "language_info": {
   "codemirror_mode": {
    "name": "ipython",
    "version": 3
   },
   "file_extension": ".py",
   "mimetype": "text/x-python",
   "name": "python",
   "nbconvert_exporter": "python",
   "pygments_lexer": "ipython3",
   "version": "3.10.8"
  }
 },
 "nbformat": 4,
 "nbformat_minor": 5
}
